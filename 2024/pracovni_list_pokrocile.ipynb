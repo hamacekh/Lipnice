{
 "cells": [
  {
   "cell_type": "code",
   "execution_count": null,
   "metadata": {},
   "outputs": [],
   "source": [
    "%load_ext sql"
   ]
  },
  {
   "cell_type": "code",
   "execution_count": null,
   "metadata": {},
   "outputs": [],
   "source": [
    "%sql sqlite:///sqlite-databases/netflix_clean.db"
   ]
  },
  {
   "cell_type": "markdown",
   "metadata": {},
   "source": [
    "# Pár nápadů na dotazy\n",
    "1. Prozkoumejte, jak vypadá databáze. Tabulky jsou `titles`, `genres`, `titles_genres`, `production_countries`, `titles_production_countries`, `credits`.\n",
    "2. Jaké žánry máme v databázi?\n",
    "3. Jaké dvojkombinace žánrů se nejčastěji používají?\n",
    "4. Jaká mají průměrná imdb hodnocení jednotlivé žánry?\n",
    "5. Jsou v databázi nějaké komedie z ČR?\n",
    "6. Vypište pět zemí, ze kterých jsou v databázi nejúspěšnější filmy.\n",
    "7. Přidejte k předchozímu i jména těch filmů."
   ]
  }
 ],
 "metadata": {
  "kernelspec": {
   "display_name": "lipnice-database",
   "language": "python",
   "name": "python3"
  },
  "language_info": {
   "codemirror_mode": {
    "name": "ipython",
    "version": 3
   },
   "file_extension": ".py",
   "mimetype": "text/x-python",
   "name": "python",
   "nbconvert_exporter": "python",
   "pygments_lexer": "ipython3",
   "version": "3.12.4"
  }
 },
 "nbformat": 4,
 "nbformat_minor": 2
}
