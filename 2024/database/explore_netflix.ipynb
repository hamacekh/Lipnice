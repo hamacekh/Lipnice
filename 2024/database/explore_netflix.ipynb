{
 "cells": [
  {
   "cell_type": "code",
   "execution_count": 1,
   "metadata": {},
   "outputs": [],
   "source": [
    "%load_ext sql"
   ]
  },
  {
   "cell_type": "code",
   "execution_count": 2,
   "metadata": {},
   "outputs": [],
   "source": [
    "%sql sqlite:///sqlite-databases/netflix_simple.db"
   ]
  },
  {
   "cell_type": "code",
   "execution_count": 3,
   "metadata": {},
   "outputs": [
    {
     "name": "stdout",
     "output_type": "stream",
     "text": [
      " * sqlite:///sqlite-databases/netflix_simple.db\n",
      "Done.\n"
     ]
    },
    {
     "data": {
      "text/html": [
       "<table>\n",
       "    <thead>\n",
       "        <tr>\n",
       "            <th>id</th>\n",
       "            <th>title</th>\n",
       "            <th>type</th>\n",
       "            <th>description</th>\n",
       "            <th>release_year</th>\n",
       "            <th>age_certification</th>\n",
       "            <th>runtime</th>\n",
       "            <th>genres</th>\n",
       "            <th>production_countries</th>\n",
       "            <th>seasons</th>\n",
       "            <th>imdb_id</th>\n",
       "            <th>imdb_score</th>\n",
       "            <th>imdb_votes</th>\n",
       "            <th>tmdb_popularity</th>\n",
       "            <th>tmdb_score</th>\n",
       "        </tr>\n",
       "    </thead>\n",
       "    <tbody>\n",
       "        <tr>\n",
       "            <td>ts300399</td>\n",
       "            <td>Five Came Back: The Reference Films</td>\n",
       "            <td>SHOW</td>\n",
       "            <td>This collection includes 12 World War II-era propaganda films — many of which are graphic and offensive — discussed in the docuseries &quot;Five Came Back.&quot;</td>\n",
       "            <td>1945</td>\n",
       "            <td>TV-MA</td>\n",
       "            <td>51</td>\n",
       "            <td>[&#x27;documentation&#x27;]</td>\n",
       "            <td>[&#x27;US&#x27;]</td>\n",
       "            <td>1.0</td>\n",
       "            <td>None</td>\n",
       "            <td>None</td>\n",
       "            <td>None</td>\n",
       "            <td>0.6</td>\n",
       "            <td>None</td>\n",
       "        </tr>\n",
       "        <tr>\n",
       "            <td>tm84618</td>\n",
       "            <td>Taxi Driver</td>\n",
       "            <td>MOVIE</td>\n",
       "            <td>A mentally unstable Vietnam War veteran works as a night-time taxi driver in New York City where the perceived decadence and sleaze feed his urge for violent action.</td>\n",
       "            <td>1976</td>\n",
       "            <td>R</td>\n",
       "            <td>114</td>\n",
       "            <td>[&#x27;drama&#x27;, &#x27;crime&#x27;]</td>\n",
       "            <td>[&#x27;US&#x27;]</td>\n",
       "            <td>None</td>\n",
       "            <td>tt0075314</td>\n",
       "            <td>8.2</td>\n",
       "            <td>808582.0</td>\n",
       "            <td>40.965</td>\n",
       "            <td>8.179</td>\n",
       "        </tr>\n",
       "        <tr>\n",
       "            <td>tm154986</td>\n",
       "            <td>Deliverance</td>\n",
       "            <td>MOVIE</td>\n",
       "            <td>Intent on seeing the Cahulawassee River before it&#x27;s turned into one huge lake, outdoor fanatic Lewis Medlock takes his friends on a river-rafting trip they&#x27;ll never forget into the dangerous American back-country.</td>\n",
       "            <td>1972</td>\n",
       "            <td>R</td>\n",
       "            <td>109</td>\n",
       "            <td>[&#x27;drama&#x27;, &#x27;action&#x27;, &#x27;thriller&#x27;, &#x27;european&#x27;]</td>\n",
       "            <td>[&#x27;US&#x27;]</td>\n",
       "            <td>None</td>\n",
       "            <td>tt0068473</td>\n",
       "            <td>7.7</td>\n",
       "            <td>107673.0</td>\n",
       "            <td>10.01</td>\n",
       "            <td>7.3</td>\n",
       "        </tr>\n",
       "    </tbody>\n",
       "</table>"
      ],
      "text/plain": [
       "[('ts300399', 'Five Came Back: The Reference Films', 'SHOW', 'This collection includes 12 World War II-era propaganda films — many of which are graphic and offensive — discussed in the docuseries \"Five Came Back.\"', 1945, 'TV-MA', 51, \"['documentation']\", \"['US']\", 1.0, None, None, None, 0.6, None),\n",
       " ('tm84618', 'Taxi Driver', 'MOVIE', 'A mentally unstable Vietnam War veteran works as a night-time taxi driver in New York City where the perceived decadence and sleaze feed his urge for violent action.', 1976, 'R', 114, \"['drama', 'crime']\", \"['US']\", None, 'tt0075314', 8.2, 808582.0, 40.965, 8.179),\n",
       " ('tm154986', 'Deliverance', 'MOVIE', \"Intent on seeing the Cahulawassee River before it's turned into one huge lake, outdoor fanatic Lewis Medlock takes his friends on a river-rafting trip they'll never forget into the dangerous American back-country.\", 1972, 'R', 109, \"['drama', 'action', 'thriller', 'european']\", \"['US']\", None, 'tt0068473', 7.7, 107673.0, 10.01, 7.3)]"
      ]
     },
     "execution_count": 3,
     "metadata": {},
     "output_type": "execute_result"
    }
   ],
   "source": [
    "%sql SELECT * FROM titles LIMIT 3"
   ]
  },
  {
   "cell_type": "code",
   "execution_count": 4,
   "metadata": {},
   "outputs": [
    {
     "name": "stdout",
     "output_type": "stream",
     "text": [
      " * sqlite:///sqlite-databases/netflix_simple.db\n",
      "Done.\n"
     ]
    },
    {
     "data": {
      "text/html": [
       "<table>\n",
       "    <thead>\n",
       "        <tr>\n",
       "            <th>person_id</th>\n",
       "            <th>id</th>\n",
       "            <th>name</th>\n",
       "            <th>character</th>\n",
       "            <th>role</th>\n",
       "        </tr>\n",
       "    </thead>\n",
       "    <tbody>\n",
       "        <tr>\n",
       "            <td>3748</td>\n",
       "            <td>tm84618</td>\n",
       "            <td>Robert De Niro</td>\n",
       "            <td>Travis Bickle</td>\n",
       "            <td>ACTOR</td>\n",
       "        </tr>\n",
       "        <tr>\n",
       "            <td>14658</td>\n",
       "            <td>tm84618</td>\n",
       "            <td>Jodie Foster</td>\n",
       "            <td>Iris Steensma</td>\n",
       "            <td>ACTOR</td>\n",
       "        </tr>\n",
       "        <tr>\n",
       "            <td>7064</td>\n",
       "            <td>tm84618</td>\n",
       "            <td>Albert Brooks</td>\n",
       "            <td>Tom</td>\n",
       "            <td>ACTOR</td>\n",
       "        </tr>\n",
       "    </tbody>\n",
       "</table>"
      ],
      "text/plain": [
       "[(3748, 'tm84618', 'Robert De Niro', 'Travis Bickle', 'ACTOR'),\n",
       " (14658, 'tm84618', 'Jodie Foster', 'Iris Steensma', 'ACTOR'),\n",
       " (7064, 'tm84618', 'Albert Brooks', 'Tom', 'ACTOR')]"
      ]
     },
     "execution_count": 4,
     "metadata": {},
     "output_type": "execute_result"
    }
   ],
   "source": [
    "%sql SELECT * FROM credits LIMIT 3"
   ]
  },
  {
   "cell_type": "code",
   "execution_count": null,
   "metadata": {},
   "outputs": [],
   "source": []
  }
 ],
 "metadata": {
  "kernelspec": {
   "display_name": "lipnice-database",
   "language": "python",
   "name": "python3"
  },
  "language_info": {
   "codemirror_mode": {
    "name": "ipython",
    "version": 3
   },
   "file_extension": ".py",
   "mimetype": "text/x-python",
   "name": "python",
   "nbconvert_exporter": "python",
   "pygments_lexer": "ipython3",
   "version": "3.12.4"
  }
 },
 "nbformat": 4,
 "nbformat_minor": 2
}
